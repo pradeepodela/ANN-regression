{
 "cells": [
  {
   "cell_type": "code",
   "execution_count": 1,
   "metadata": {
    "scrolled": true
   },
   "outputs": [],
   "source": [
    "print('success')"
   ]
  },
  {
   "cell_type": "code",
   "execution_count": 2,
   "metadata": {},
   "outputs": [],
   "source": [
    "import numpy as np\n",
    "import matplotlib as mplt\n",
    "%matplotlib inline\n",
    "import pandas as pd\n",
    "import matplotlib.pyplot as plt"
   ]
  },
  {
   "cell_type": "code",
   "execution_count": 3,
   "metadata": {},
   "outputs": [],
   "source": [
    "import tensorflow as tf\n",
    "from tensorflow import keras\n",
    "from sklearn import datasets\n",
    "import sklearn"
   ]
  },
  {
   "cell_type": "code",
   "execution_count": 4,
   "metadata": {},
   "outputs": [],
   "source": [
    "df = sklearn.datasets.fetch_california_housing()"
   ]
  },
  {
   "cell_type": "code",
   "execution_count": 5,
   "metadata": {},
   "outputs": [],
   "source": [
    "from sklearn.model_selection import train_test_split"
   ]
  },
  {
   "cell_type": "code",
   "execution_count": null,
   "metadata": {},
   "outputs": [],
   "source": []
  },
  {
   "cell_type": "code",
   "execution_count": 6,
   "metadata": {},
   "outputs": [],
   "source": [
    "x_train_full , x_test , y_train_full , y_test = train_test_split(df.data , df.target  , random_state = 1)\n",
    "x_train , x_valid , y_train , y_valid = train_test_split(x_train_full , y_train_full , random_state = 1)"
   ]
  },
  {
   "cell_type": "code",
   "execution_count": 7,
   "metadata": {},
   "outputs": [
    {
     "name": "stdout",
     "output_type": "stream",
     "text": [
      "(15480, 8)\n",
      "(11610, 8)\n",
      "(3870, 8)\n",
      "(5160, 8)\n"
     ]
    }
   ],
   "source": [
    "\n",
    "print(x_train_full.shape)\n",
    "print(x_train.shape)\n",
    "print(x_valid.shape)\n",
    "print(x_test.shape)"
   ]
  },
  {
   "cell_type": "code",
   "execution_count": null,
   "metadata": {},
   "outputs": [],
   "source": []
  },
  {
   "cell_type": "code",
   "execution_count": 8,
   "metadata": {},
   "outputs": [],
   "source": [
    "np.random.seed(12)\n",
    "tf.random.set_seed(12)"
   ]
  },
  {
   "cell_type": "code",
   "execution_count": null,
   "metadata": {},
   "outputs": [],
   "source": []
  },
  {
   "cell_type": "code",
   "execution_count": 9,
   "metadata": {},
   "outputs": [],
   "source": [
    "from sklearn.preprocessing import StandardScaler\n",
    "scaler = StandardScaler()\n",
    "x_train = scaler.fit_transform(x_train)\n",
    "x_valid = scaler.fit_transform(x_valid)\n",
    "x_test = scaler.fit_transform(x_test)"
   ]
  },
  {
   "cell_type": "code",
   "execution_count": 10,
   "metadata": {},
   "outputs": [
    {
     "data": {
      "text/plain": [
       "array([[-0.6668496 ,  1.30765859, -0.75388918, -0.1908919 , -0.98904153,\n",
       "        -0.07214539,  0.89894016, -1.3604435 ],\n",
       "       [-0.59639598, -0.12735788, -0.18261464, -0.21301746, -0.48096175,\n",
       "        -0.0303978 ,  0.43025184,  0.07362032]])"
      ]
     },
     "execution_count": 10,
     "metadata": {},
     "output_type": "execute_result"
    }
   ],
   "source": [
    "x_train[1:3]"
   ]
  },
  {
   "cell_type": "code",
   "execution_count": null,
   "metadata": {},
   "outputs": [],
   "source": []
  },
  {
   "cell_type": "code",
   "execution_count": 11,
   "metadata": {},
   "outputs": [],
   "source": [
    "from keras.models import Sequential\n",
    "model = Sequential()\n",
    "model.add(keras.layers.Dense(30 , activation=\"relu\" ,input_shape=[8]))\n",
    "model.add(keras.layers.Dense(30 , activation=\"relu\" ))\n",
    "model.add(keras.layers.Dense(1))"
   ]
  },
  {
   "cell_type": "code",
   "execution_count": 12,
   "metadata": {},
   "outputs": [
    {
     "name": "stdout",
     "output_type": "stream",
     "text": [
      "Model: \"sequential\"\n",
      "_________________________________________________________________\n",
      "Layer (type)                 Output Shape              Param #   \n",
      "=================================================================\n",
      "dense (Dense)                (None, 30)                270       \n",
      "_________________________________________________________________\n",
      "dense_1 (Dense)              (None, 30)                930       \n",
      "_________________________________________________________________\n",
      "dense_2 (Dense)              (None, 1)                 31        \n",
      "=================================================================\n",
      "Total params: 1,231\n",
      "Trainable params: 1,231\n",
      "Non-trainable params: 0\n",
      "_________________________________________________________________\n"
     ]
    }
   ],
   "source": [
    "model.summary()"
   ]
  },
  {
   "cell_type": "code",
   "execution_count": 13,
   "metadata": {},
   "outputs": [],
   "source": [
    "model.compile(loss=\"mean_squared_error\" , optimizer=keras.optimizers.SGD(lr=1e-3) , metrics=['mae'])"
   ]
  },
  {
   "cell_type": "code",
   "execution_count": 14,
   "metadata": {},
   "outputs": [
    {
     "name": "stdout",
     "output_type": "stream",
     "text": [
      "Epoch 1/30\n",
      "363/363 [==============================] - 0s 1ms/step - loss: 2.7516 - mae: 1.2188 - val_loss: 1.1566 - val_mae: 0.8200\n",
      "Epoch 2/30\n",
      "363/363 [==============================] - 0s 789us/step - loss: 0.9361 - mae: 0.7296 - val_loss: 0.6800 - val_mae: 0.6385\n",
      "Epoch 3/30\n",
      "363/363 [==============================] - 0s 797us/step - loss: 0.6684 - mae: 0.6136 - val_loss: 0.5824 - val_mae: 0.5742\n",
      "Epoch 4/30\n",
      "363/363 [==============================] - 0s 805us/step - loss: 0.6047 - mae: 0.5731 - val_loss: 0.5505 - val_mae: 0.5478\n",
      "Epoch 5/30\n",
      "363/363 [==============================] - 0s 811us/step - loss: 0.5771 - mae: 0.5558 - val_loss: 0.5302 - val_mae: 0.5387\n",
      "Epoch 6/30\n",
      "363/363 [==============================] - 0s 764us/step - loss: 0.5554 - mae: 0.5448 - val_loss: 0.5146 - val_mae: 0.5256\n",
      "Epoch 7/30\n",
      "363/363 [==============================] - 0s 767us/step - loss: 0.5390 - mae: 0.5335 - val_loss: 0.5016 - val_mae: 0.5180\n",
      "Epoch 8/30\n",
      "363/363 [==============================] - 0s 791us/step - loss: 0.5258 - mae: 0.5262 - val_loss: 0.4936 - val_mae: 0.5185\n",
      "Epoch 9/30\n",
      "363/363 [==============================] - 0s 838us/step - loss: 0.5147 - mae: 0.5210 - val_loss: 0.4849 - val_mae: 0.5120\n",
      "Epoch 10/30\n",
      "363/363 [==============================] - 0s 945us/step - loss: 0.5054 - mae: 0.5161 - val_loss: 0.4757 - val_mae: 0.5020\n",
      "Epoch 11/30\n",
      "363/363 [==============================] - 0s 879us/step - loss: 0.4967 - mae: 0.5103 - val_loss: 0.4691 - val_mae: 0.5002\n",
      "Epoch 12/30\n",
      "363/363 [==============================] - 0s 926us/step - loss: 0.4890 - mae: 0.5076 - val_loss: 0.4621 - val_mae: 0.4933\n",
      "Epoch 13/30\n",
      "363/363 [==============================] - 0s 868us/step - loss: 0.4830 - mae: 0.5028 - val_loss: 0.4570 - val_mae: 0.4925\n",
      "Epoch 14/30\n",
      "363/363 [==============================] - 0s 865us/step - loss: 0.4772 - mae: 0.5003 - val_loss: 0.4535 - val_mae: 0.4910\n",
      "Epoch 15/30\n",
      "363/363 [==============================] - 0s 923us/step - loss: 0.4718 - mae: 0.4972 - val_loss: 0.4484 - val_mae: 0.4858\n",
      "Epoch 16/30\n",
      "363/363 [==============================] - 0s 637us/step - loss: 0.4672 - mae: 0.4947 - val_loss: 0.4450 - val_mae: 0.4871\n",
      "Epoch 17/30\n",
      "363/363 [==============================] - 0s 703us/step - loss: 0.4629 - mae: 0.4928 - val_loss: 0.4408 - val_mae: 0.4833\n",
      "Epoch 18/30\n",
      "363/363 [==============================] - 0s 803us/step - loss: 0.4586 - mae: 0.4910 - val_loss: 0.4386 - val_mae: 0.4811\n",
      "Epoch 19/30\n",
      "363/363 [==============================] - 0s 842us/step - loss: 0.4554 - mae: 0.4881 - val_loss: 0.4348 - val_mae: 0.4792\n",
      "Epoch 20/30\n",
      "363/363 [==============================] - 0s 801us/step - loss: 0.4519 - mae: 0.4870 - val_loss: 0.4326 - val_mae: 0.4774\n",
      "Epoch 21/30\n",
      "363/363 [==============================] - 0s 802us/step - loss: 0.4493 - mae: 0.4845 - val_loss: 0.4304 - val_mae: 0.4784\n",
      "Epoch 22/30\n",
      "363/363 [==============================] - 0s 815us/step - loss: 0.4461 - mae: 0.4834 - val_loss: 0.4267 - val_mae: 0.4753\n",
      "Epoch 23/30\n",
      "363/363 [==============================] - 0s 795us/step - loss: 0.4433 - mae: 0.4815 - val_loss: 0.4261 - val_mae: 0.4768\n",
      "Epoch 24/30\n",
      "363/363 [==============================] - 0s 797us/step - loss: 0.4405 - mae: 0.4804 - val_loss: 0.4238 - val_mae: 0.4744\n",
      "Epoch 25/30\n",
      "363/363 [==============================] - 0s 802us/step - loss: 0.4382 - mae: 0.4785 - val_loss: 0.4197 - val_mae: 0.4698\n",
      "Epoch 26/30\n",
      "363/363 [==============================] - 0s 811us/step - loss: 0.4357 - mae: 0.4773 - val_loss: 0.4186 - val_mae: 0.4719\n",
      "Epoch 27/30\n",
      "363/363 [==============================] - 0s 712us/step - loss: 0.4335 - mae: 0.4757 - val_loss: 0.4151 - val_mae: 0.4697\n",
      "Epoch 28/30\n",
      "363/363 [==============================] - 0s 876us/step - loss: 0.4314 - mae: 0.4745 - val_loss: 0.4141 - val_mae: 0.4696\n",
      "Epoch 29/30\n",
      "363/363 [==============================] - 0s 679us/step - loss: 0.4294 - mae: 0.4734 - val_loss: 0.4117 - val_mae: 0.4662\n",
      "Epoch 30/30\n",
      "363/363 [==============================] - 0s 719us/step - loss: 0.4274 - mae: 0.4717 - val_loss: 0.4111 - val_mae: 0.4661\n"
     ]
    }
   ],
   "source": [
    "model_history = model.fit(x_train , y_train , epochs=30 , validation_data=(x_valid,y_valid))"
   ]
  },
  {
   "cell_type": "code",
   "execution_count": 15,
   "metadata": {},
   "outputs": [],
   "source": [
    "# 1 = 42 \n",
    "# 2 = 38\n",
    "# 3 = 36\n",
    "# 4 = 34"
   ]
  },
  {
   "cell_type": "code",
   "execution_count": 16,
   "metadata": {},
   "outputs": [
    {
     "name": "stdout",
     "output_type": "stream",
     "text": [
      "162/162 [==============================] - 0s 540us/step - loss: 0.5208 - mae: 0.5369\n"
     ]
    }
   ],
   "source": [
    "model_evaluate = model.evaluate(x_test , y_test)"
   ]
  },
  {
   "cell_type": "code",
   "execution_count": 19,
   "metadata": {},
   "outputs": [
    {
     "data": {
      "image/png": "[encoded data removed]",
      "text/plain": [
       "<Figure size 576x360 with 1 Axes>"
      ]
     },
     "metadata": {
      "needs_background": "light"
     },
     "output_type": "display_data"
    }
   ],
   "source": [
    "pd.DataFrame(model_history.history).plot(figsize=(8, 5))\n",
    "plt.grid(True)\n",
    "plt.gca().set_ylim(0, 1)\n",
    "\n",
    "plt.show()"
   ]
  },
  {
   "cell_type": "code",
   "execution_count": 44,
   "metadata": {},
   "outputs": [],
   "source": [
    "x_test_new = x_test[0][0]"
   ]
  },
  {
   "cell_type": "code",
   "execution_count": 45,
   "metadata": {},
   "outputs": [
    {
     "data": {
      "text/plain": [
       "-0.308143570072583"
      ]
     },
     "execution_count": 45,
     "metadata": {},
     "output_type": "execute_result"
    }
   ],
   "source": [
    "x_test_new "
   ]
  },
  {
   "cell_type": "code",
   "execution_count": 46,
   "metadata": {},
   "outputs": [
    {
     "name": "stdout",
     "output_type": "stream",
     "text": [
      "0 -0.308143570072583\n",
      "1 0.8116151598274279\n",
      "2 -0.40665842466904356\n",
      "3 -0.04991734962563992\n",
      "4 -0.2736828625074234\n",
      "5 -1.0830400382730607\n",
      "6 -0.7343671005025372\n",
      "7 0.5976560727008126\n"
     ]
    }
   ],
   "source": [
    "n = 0\n",
    "for i in range(0,8):\n",
    "    num = i\n",
    "    x_test_new = x_test[0][num]\n",
    "    print(n , x_test_new)\n",
    "    n = n + 1"
   ]
  },
  {
   "cell_type": "code",
   "execution_count": 47,
   "metadata": {},
   "outputs": [],
   "source": [
    "x_test_new_1 = x_test[0]"
   ]
  },
  {
   "cell_type": "code",
   "execution_count": 48,
   "metadata": {},
   "outputs": [
    {
     "data": {
      "text/plain": [
       "array([-0.30814357,  0.81161516, -0.40665842, -0.04991735, -0.27368286,\n",
       "       -1.08304004, -0.7343671 ,  0.59765607])"
      ]
     },
     "execution_count": 48,
     "metadata": {},
     "output_type": "execute_result"
    }
   ],
   "source": [
    "x_test_new_1"
   ]
  },
  {
   "cell_type": "code",
   "execution_count": 49,
   "metadata": {},
   "outputs": [],
   "source": [
    "excpetted_output= y_test[0]"
   ]
  },
  {
   "cell_type": "code",
   "execution_count": 51,
   "metadata": {},
   "outputs": [
    {
     "data": {
      "text/plain": [
       "3.55"
      ]
     },
     "execution_count": 51,
     "metadata": {},
     "output_type": "execute_result"
    }
   ],
   "source": [
    "excpetted_output"
   ]
  },
  {
   "cell_type": "code",
   "execution_count": null,
   "metadata": {},
   "outputs": [],
   "source": []
  }
 ],
 "metadata": {
  "kernelspec": {
   "display_name": "Python 3",
   "language": "python",
   "name": "python3"
  },
  "language_info": {
   "codemirror_mode": {
    "name": "ipython",
    "version": 3
   },
   "file_extension": ".py",
   "mimetype": "text/x-python",
   "name": "python",
   "nbconvert_exporter": "python",
   "pygments_lexer": "ipython3",
   "version": "3.8.5"
  }
 },
 "nbformat": 4,
 "nbformat_minor": 4
}
